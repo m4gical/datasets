{
 "cells": [
  {
   "cell_type": "code",
   "execution_count": 3,
   "id": "9fe83709",
   "metadata": {},
   "outputs": [],
   "source": [
    "import pandas as pd\n",
    "import numpy as np"
   ]
  },
  {
   "cell_type": "code",
   "execution_count": 4,
   "id": "1842e71c",
   "metadata": {},
   "outputs": [],
   "source": [
    "df = pd.read_csv('C:\\\\Users\\\\Alexander\\\\Desktop\\\\Alexan\\\\Coding\\\\Data and ML\\\\Datasets\\\\Uni ranks\\\\World University Rankings 2023.csv')"
   ]
  },
  {
   "cell_type": "code",
   "execution_count": 5,
   "id": "be0ce036",
   "metadata": {},
   "outputs": [
    {
     "data": {
      "text/html": [
       "<div>\n",
       "<style scoped>\n",
       "    .dataframe tbody tr th:only-of-type {\n",
       "        vertical-align: middle;\n",
       "    }\n",
       "\n",
       "    .dataframe tbody tr th {\n",
       "        vertical-align: top;\n",
       "    }\n",
       "\n",
       "    .dataframe thead th {\n",
       "        text-align: right;\n",
       "    }\n",
       "</style>\n",
       "<table border=\"1\" class=\"dataframe\">\n",
       "  <thead>\n",
       "    <tr style=\"text-align: right;\">\n",
       "      <th></th>\n",
       "      <th>University Rank</th>\n",
       "      <th>Name of University</th>\n",
       "      <th>Location</th>\n",
       "      <th>No of student</th>\n",
       "      <th>No of student per staff</th>\n",
       "      <th>International Student</th>\n",
       "      <th>Female:Male Ratio</th>\n",
       "      <th>OverAll Score</th>\n",
       "      <th>Teaching Score</th>\n",
       "      <th>Research Score</th>\n",
       "      <th>Citations Score</th>\n",
       "      <th>Industry Income Score</th>\n",
       "      <th>International Outlook Score</th>\n",
       "    </tr>\n",
       "  </thead>\n",
       "  <tbody>\n",
       "    <tr>\n",
       "      <th>0</th>\n",
       "      <td>1</td>\n",
       "      <td>University of Oxford</td>\n",
       "      <td>United Kingdom</td>\n",
       "      <td>20,965</td>\n",
       "      <td>10.6</td>\n",
       "      <td>42%</td>\n",
       "      <td>48 : 52</td>\n",
       "      <td>96.4</td>\n",
       "      <td>92.3</td>\n",
       "      <td>99.7</td>\n",
       "      <td>99.0</td>\n",
       "      <td>74.9</td>\n",
       "      <td>96.2</td>\n",
       "    </tr>\n",
       "    <tr>\n",
       "      <th>1</th>\n",
       "      <td>2</td>\n",
       "      <td>Harvard University</td>\n",
       "      <td>United States</td>\n",
       "      <td>21,887</td>\n",
       "      <td>9.6</td>\n",
       "      <td>25%</td>\n",
       "      <td>50 : 50</td>\n",
       "      <td>95.2</td>\n",
       "      <td>94.8</td>\n",
       "      <td>99.0</td>\n",
       "      <td>99.3</td>\n",
       "      <td>49.5</td>\n",
       "      <td>80.5</td>\n",
       "    </tr>\n",
       "    <tr>\n",
       "      <th>2</th>\n",
       "      <td>3</td>\n",
       "      <td>University of Cambridge</td>\n",
       "      <td>United Kingdom</td>\n",
       "      <td>20,185</td>\n",
       "      <td>11.3</td>\n",
       "      <td>39%</td>\n",
       "      <td>47 : 53</td>\n",
       "      <td>94.8</td>\n",
       "      <td>90.9</td>\n",
       "      <td>99.5</td>\n",
       "      <td>97.0</td>\n",
       "      <td>54.2</td>\n",
       "      <td>95.8</td>\n",
       "    </tr>\n",
       "    <tr>\n",
       "      <th>3</th>\n",
       "      <td>3</td>\n",
       "      <td>Stanford University</td>\n",
       "      <td>United States</td>\n",
       "      <td>16,164</td>\n",
       "      <td>7.1</td>\n",
       "      <td>24%</td>\n",
       "      <td>46 : 54</td>\n",
       "      <td>94.8</td>\n",
       "      <td>94.2</td>\n",
       "      <td>96.7</td>\n",
       "      <td>99.8</td>\n",
       "      <td>65.0</td>\n",
       "      <td>79.8</td>\n",
       "    </tr>\n",
       "    <tr>\n",
       "      <th>4</th>\n",
       "      <td>5</td>\n",
       "      <td>Massachusetts Institute of Technology</td>\n",
       "      <td>United States</td>\n",
       "      <td>11,415</td>\n",
       "      <td>8.2</td>\n",
       "      <td>33%</td>\n",
       "      <td>40 : 60</td>\n",
       "      <td>94.2</td>\n",
       "      <td>90.7</td>\n",
       "      <td>93.6</td>\n",
       "      <td>99.8</td>\n",
       "      <td>90.9</td>\n",
       "      <td>89.3</td>\n",
       "    </tr>\n",
       "  </tbody>\n",
       "</table>\n",
       "</div>"
      ],
      "text/plain": [
       "  University Rank                     Name of University        Location  \\\n",
       "0               1                   University of Oxford  United Kingdom   \n",
       "1               2                     Harvard University   United States   \n",
       "2               3                University of Cambridge  United Kingdom   \n",
       "3               3                    Stanford University   United States   \n",
       "4               5  Massachusetts Institute of Technology   United States   \n",
       "\n",
       "  No of student  No of student per staff International Student  \\\n",
       "0        20,965                     10.6                   42%   \n",
       "1        21,887                      9.6                   25%   \n",
       "2        20,185                     11.3                   39%   \n",
       "3        16,164                      7.1                   24%   \n",
       "4        11,415                      8.2                   33%   \n",
       "\n",
       "  Female:Male Ratio OverAll Score  Teaching Score  Research Score  \\\n",
       "0           48 : 52          96.4            92.3            99.7   \n",
       "1           50 : 50          95.2            94.8            99.0   \n",
       "2           47 : 53          94.8            90.9            99.5   \n",
       "3           46 : 54          94.8            94.2            96.7   \n",
       "4           40 : 60          94.2            90.7            93.6   \n",
       "\n",
       "   Citations Score  Industry Income Score  International Outlook Score  \n",
       "0             99.0                   74.9                         96.2  \n",
       "1             99.3                   49.5                         80.5  \n",
       "2             97.0                   54.2                         95.8  \n",
       "3             99.8                   65.0                         79.8  \n",
       "4             99.8                   90.9                         89.3  "
      ]
     },
     "execution_count": 5,
     "metadata": {},
     "output_type": "execute_result"
    }
   ],
   "source": [
    "df.head()"
   ]
  },
  {
   "cell_type": "code",
   "execution_count": 6,
   "id": "98297eee",
   "metadata": {},
   "outputs": [
    {
     "data": {
      "text/plain": [
       "(2341, 13)"
      ]
     },
     "execution_count": 6,
     "metadata": {},
     "output_type": "execute_result"
    }
   ],
   "source": [
    "df.shape"
   ]
  },
  {
   "cell_type": "code",
   "execution_count": 7,
   "id": "667b5910",
   "metadata": {},
   "outputs": [
    {
     "data": {
      "text/plain": [
       "University Rank                  0\n",
       "Name of University             108\n",
       "Location                       294\n",
       "No of student                  132\n",
       "No of student per staff        133\n",
       "International Student          132\n",
       "Female:Male Ratio              213\n",
       "OverAll Score                  542\n",
       "Teaching Score                 542\n",
       "Research Score                 542\n",
       "Citations Score                542\n",
       "Industry Income Score          542\n",
       "International Outlook Score    542\n",
       "dtype: int64"
      ]
     },
     "execution_count": 7,
     "metadata": {},
     "output_type": "execute_result"
    }
   ],
   "source": [
    "df.isna().sum()"
   ]
  },
  {
   "cell_type": "code",
   "execution_count": 8,
   "id": "689f5192",
   "metadata": {},
   "outputs": [
    {
     "name": "stdout",
     "output_type": "stream",
     "text": [
      "<class 'pandas.core.frame.DataFrame'>\n",
      "RangeIndex: 2341 entries, 0 to 2340\n",
      "Data columns (total 13 columns):\n",
      " #   Column                       Non-Null Count  Dtype  \n",
      "---  ------                       --------------  -----  \n",
      " 0   University Rank              2341 non-null   object \n",
      " 1   Name of University           2233 non-null   object \n",
      " 2   Location                     2047 non-null   object \n",
      " 3   No of student                2209 non-null   object \n",
      " 4   No of student per staff      2208 non-null   float64\n",
      " 5   International Student        2209 non-null   object \n",
      " 6   Female:Male Ratio            2128 non-null   object \n",
      " 7   OverAll Score                1799 non-null   object \n",
      " 8   Teaching Score               1799 non-null   float64\n",
      " 9   Research Score               1799 non-null   float64\n",
      " 10  Citations Score              1799 non-null   float64\n",
      " 11  Industry Income Score        1799 non-null   float64\n",
      " 12  International Outlook Score  1799 non-null   float64\n",
      "dtypes: float64(6), object(7)\n",
      "memory usage: 237.9+ KB\n"
     ]
    }
   ],
   "source": [
    "df.info()"
   ]
  },
  {
   "cell_type": "code",
   "execution_count": 9,
   "id": "89cd6f25",
   "metadata": {},
   "outputs": [
    {
     "data": {
      "text/html": [
       "<div>\n",
       "<style scoped>\n",
       "    .dataframe tbody tr th:only-of-type {\n",
       "        vertical-align: middle;\n",
       "    }\n",
       "\n",
       "    .dataframe tbody tr th {\n",
       "        vertical-align: top;\n",
       "    }\n",
       "\n",
       "    .dataframe thead th {\n",
       "        text-align: right;\n",
       "    }\n",
       "</style>\n",
       "<table border=\"1\" class=\"dataframe\">\n",
       "  <thead>\n",
       "    <tr style=\"text-align: right;\">\n",
       "      <th></th>\n",
       "      <th>count</th>\n",
       "      <th>mean</th>\n",
       "      <th>std</th>\n",
       "      <th>min</th>\n",
       "      <th>25%</th>\n",
       "      <th>50%</th>\n",
       "      <th>75%</th>\n",
       "      <th>max</th>\n",
       "    </tr>\n",
       "  </thead>\n",
       "  <tbody>\n",
       "    <tr>\n",
       "      <th>No of student per staff</th>\n",
       "      <td>2208.0</td>\n",
       "      <td>19.000408</td>\n",
       "      <td>12.132224</td>\n",
       "      <td>0.4</td>\n",
       "      <td>12.6</td>\n",
       "      <td>16.6</td>\n",
       "      <td>22.20</td>\n",
       "      <td>232.2</td>\n",
       "    </tr>\n",
       "    <tr>\n",
       "      <th>Teaching Score</th>\n",
       "      <td>1799.0</td>\n",
       "      <td>27.018010</td>\n",
       "      <td>13.282243</td>\n",
       "      <td>11.6</td>\n",
       "      <td>18.0</td>\n",
       "      <td>22.7</td>\n",
       "      <td>31.85</td>\n",
       "      <td>94.8</td>\n",
       "    </tr>\n",
       "    <tr>\n",
       "      <th>Research Score</th>\n",
       "      <td>1799.0</td>\n",
       "      <td>23.016898</td>\n",
       "      <td>16.763819</td>\n",
       "      <td>7.4</td>\n",
       "      <td>11.3</td>\n",
       "      <td>17.0</td>\n",
       "      <td>28.90</td>\n",
       "      <td>99.7</td>\n",
       "    </tr>\n",
       "    <tr>\n",
       "      <th>Citations Score</th>\n",
       "      <td>1799.0</td>\n",
       "      <td>48.495887</td>\n",
       "      <td>27.967185</td>\n",
       "      <td>0.8</td>\n",
       "      <td>23.1</td>\n",
       "      <td>47.2</td>\n",
       "      <td>72.35</td>\n",
       "      <td>100.0</td>\n",
       "    </tr>\n",
       "    <tr>\n",
       "      <th>Industry Income Score</th>\n",
       "      <td>1799.0</td>\n",
       "      <td>47.104558</td>\n",
       "      <td>15.093682</td>\n",
       "      <td>36.9</td>\n",
       "      <td>37.8</td>\n",
       "      <td>40.5</td>\n",
       "      <td>48.30</td>\n",
       "      <td>100.0</td>\n",
       "    </tr>\n",
       "    <tr>\n",
       "      <th>International Outlook Score</th>\n",
       "      <td>1799.0</td>\n",
       "      <td>46.880378</td>\n",
       "      <td>22.582401</td>\n",
       "      <td>14.1</td>\n",
       "      <td>27.9</td>\n",
       "      <td>42.1</td>\n",
       "      <td>62.10</td>\n",
       "      <td>99.7</td>\n",
       "    </tr>\n",
       "  </tbody>\n",
       "</table>\n",
       "</div>"
      ],
      "text/plain": [
       "                              count       mean        std   min   25%   50%  \\\n",
       "No of student per staff      2208.0  19.000408  12.132224   0.4  12.6  16.6   \n",
       "Teaching Score               1799.0  27.018010  13.282243  11.6  18.0  22.7   \n",
       "Research Score               1799.0  23.016898  16.763819   7.4  11.3  17.0   \n",
       "Citations Score              1799.0  48.495887  27.967185   0.8  23.1  47.2   \n",
       "Industry Income Score        1799.0  47.104558  15.093682  36.9  37.8  40.5   \n",
       "International Outlook Score  1799.0  46.880378  22.582401  14.1  27.9  42.1   \n",
       "\n",
       "                               75%    max  \n",
       "No of student per staff      22.20  232.2  \n",
       "Teaching Score               31.85   94.8  \n",
       "Research Score               28.90   99.7  \n",
       "Citations Score              72.35  100.0  \n",
       "Industry Income Score        48.30  100.0  \n",
       "International Outlook Score  62.10   99.7  "
      ]
     },
     "execution_count": 9,
     "metadata": {},
     "output_type": "execute_result"
    }
   ],
   "source": [
    "df.describe().T"
   ]
  },
  {
   "cell_type": "code",
   "execution_count": 10,
   "id": "f3c841fd",
   "metadata": {},
   "outputs": [
    {
     "data": {
      "text/html": [
       "<div>\n",
       "<style scoped>\n",
       "    .dataframe tbody tr th:only-of-type {\n",
       "        vertical-align: middle;\n",
       "    }\n",
       "\n",
       "    .dataframe tbody tr th {\n",
       "        vertical-align: top;\n",
       "    }\n",
       "\n",
       "    .dataframe thead th {\n",
       "        text-align: right;\n",
       "    }\n",
       "</style>\n",
       "<table border=\"1\" class=\"dataframe\">\n",
       "  <thead>\n",
       "    <tr style=\"text-align: right;\">\n",
       "      <th></th>\n",
       "      <th>No of student per staff</th>\n",
       "      <th>Teaching Score</th>\n",
       "      <th>Research Score</th>\n",
       "      <th>Citations Score</th>\n",
       "      <th>Industry Income Score</th>\n",
       "      <th>International Outlook Score</th>\n",
       "    </tr>\n",
       "  </thead>\n",
       "  <tbody>\n",
       "    <tr>\n",
       "      <th>count</th>\n",
       "      <td>2208.000000</td>\n",
       "      <td>1799.000000</td>\n",
       "      <td>1799.000000</td>\n",
       "      <td>1799.000000</td>\n",
       "      <td>1799.000000</td>\n",
       "      <td>1799.000000</td>\n",
       "    </tr>\n",
       "    <tr>\n",
       "      <th>mean</th>\n",
       "      <td>19.000408</td>\n",
       "      <td>27.018010</td>\n",
       "      <td>23.016898</td>\n",
       "      <td>48.495887</td>\n",
       "      <td>47.104558</td>\n",
       "      <td>46.880378</td>\n",
       "    </tr>\n",
       "    <tr>\n",
       "      <th>std</th>\n",
       "      <td>12.132224</td>\n",
       "      <td>13.282243</td>\n",
       "      <td>16.763819</td>\n",
       "      <td>27.967185</td>\n",
       "      <td>15.093682</td>\n",
       "      <td>22.582401</td>\n",
       "    </tr>\n",
       "    <tr>\n",
       "      <th>min</th>\n",
       "      <td>0.400000</td>\n",
       "      <td>11.600000</td>\n",
       "      <td>7.400000</td>\n",
       "      <td>0.800000</td>\n",
       "      <td>36.900000</td>\n",
       "      <td>14.100000</td>\n",
       "    </tr>\n",
       "    <tr>\n",
       "      <th>25%</th>\n",
       "      <td>12.600000</td>\n",
       "      <td>18.000000</td>\n",
       "      <td>11.300000</td>\n",
       "      <td>23.100000</td>\n",
       "      <td>37.800000</td>\n",
       "      <td>27.900000</td>\n",
       "    </tr>\n",
       "    <tr>\n",
       "      <th>50%</th>\n",
       "      <td>16.600000</td>\n",
       "      <td>22.700000</td>\n",
       "      <td>17.000000</td>\n",
       "      <td>47.200000</td>\n",
       "      <td>40.500000</td>\n",
       "      <td>42.100000</td>\n",
       "    </tr>\n",
       "    <tr>\n",
       "      <th>75%</th>\n",
       "      <td>22.200000</td>\n",
       "      <td>31.850000</td>\n",
       "      <td>28.900000</td>\n",
       "      <td>72.350000</td>\n",
       "      <td>48.300000</td>\n",
       "      <td>62.100000</td>\n",
       "    </tr>\n",
       "    <tr>\n",
       "      <th>max</th>\n",
       "      <td>232.200000</td>\n",
       "      <td>94.800000</td>\n",
       "      <td>99.700000</td>\n",
       "      <td>100.000000</td>\n",
       "      <td>100.000000</td>\n",
       "      <td>99.700000</td>\n",
       "    </tr>\n",
       "  </tbody>\n",
       "</table>\n",
       "</div>"
      ],
      "text/plain": [
       "       No of student per staff  Teaching Score  Research Score  \\\n",
       "count              2208.000000     1799.000000     1799.000000   \n",
       "mean                 19.000408       27.018010       23.016898   \n",
       "std                  12.132224       13.282243       16.763819   \n",
       "min                   0.400000       11.600000        7.400000   \n",
       "25%                  12.600000       18.000000       11.300000   \n",
       "50%                  16.600000       22.700000       17.000000   \n",
       "75%                  22.200000       31.850000       28.900000   \n",
       "max                 232.200000       94.800000       99.700000   \n",
       "\n",
       "       Citations Score  Industry Income Score  International Outlook Score  \n",
       "count      1799.000000            1799.000000                  1799.000000  \n",
       "mean         48.495887              47.104558                    46.880378  \n",
       "std          27.967185              15.093682                    22.582401  \n",
       "min           0.800000              36.900000                    14.100000  \n",
       "25%          23.100000              37.800000                    27.900000  \n",
       "50%          47.200000              40.500000                    42.100000  \n",
       "75%          72.350000              48.300000                    62.100000  \n",
       "max         100.000000             100.000000                    99.700000  "
      ]
     },
     "execution_count": 10,
     "metadata": {},
     "output_type": "execute_result"
    }
   ],
   "source": [
    "df.describe()"
   ]
  },
  {
   "cell_type": "code",
   "execution_count": 11,
   "id": "7dcd2742",
   "metadata": {},
   "outputs": [
    {
     "data": {
      "text/plain": [
       "United States     173\n",
       "Japan             150\n",
       "United Kingdom    149\n",
       "India              91\n",
       "China              82\n",
       "Turkey             75\n",
       "Brazil             73\n",
       "Iran               63\n",
       "Spain              57\n",
       "Nigeria            56\n",
       "Pakistan           55\n",
       "Italy              51\n",
       "Germany            45\n",
       "Iraq               44\n",
       "France             44\n",
       "Egypt              40\n",
       "Taiwan             39\n",
       "Poland             34\n",
       "Uzbekistan         29\n",
       "Ukraine            28\n",
       "Colombia           27\n",
       "Chile              26\n",
       "Australia          25\n",
       "Thailand           25\n",
       "Mexico             25\n",
       "Name: Location, dtype: int64"
      ]
     },
     "execution_count": 11,
     "metadata": {},
     "output_type": "execute_result"
    }
   ],
   "source": [
    "df['Location'].value_counts().loc[lambda x: x >= 25]"
   ]
  },
  {
   "cell_type": "code",
   "execution_count": 12,
   "id": "faf517bb",
   "metadata": {},
   "outputs": [
    {
     "data": {
      "text/plain": [
       "Location\n",
       "United Kingdom    60\n",
       "Nigeria           45\n",
       "Iraq              36\n",
       "Japan             35\n",
       "Uzbekistan        29\n",
       "India             26\n",
       "Pakistan          26\n",
       "Name: International Outlook Score, dtype: int64"
      ]
     },
     "execution_count": 12,
     "metadata": {},
     "output_type": "execute_result"
    }
   ],
   "source": [
    "df.groupby('Location')['International Outlook Score'].apply(lambda x: x.isna().sum()).loc[lambda x: x >= 20].sort_values(ascending = False)"
   ]
  },
  {
   "cell_type": "code",
   "execution_count": 13,
   "id": "f74e1877",
   "metadata": {
    "scrolled": true
   },
   "outputs": [
    {
     "data": {
      "text/html": [
       "<div>\n",
       "<style scoped>\n",
       "    .dataframe tbody tr th:only-of-type {\n",
       "        vertical-align: middle;\n",
       "    }\n",
       "\n",
       "    .dataframe tbody tr th {\n",
       "        vertical-align: top;\n",
       "    }\n",
       "\n",
       "    .dataframe thead th {\n",
       "        text-align: right;\n",
       "    }\n",
       "</style>\n",
       "<table border=\"1\" class=\"dataframe\">\n",
       "  <thead>\n",
       "    <tr style=\"text-align: right;\">\n",
       "      <th></th>\n",
       "      <th>count</th>\n",
       "      <th>mean</th>\n",
       "      <th>std</th>\n",
       "      <th>min</th>\n",
       "      <th>25%</th>\n",
       "      <th>50%</th>\n",
       "      <th>75%</th>\n",
       "      <th>max</th>\n",
       "    </tr>\n",
       "  </thead>\n",
       "  <tbody>\n",
       "    <tr>\n",
       "      <th>No of student per staff</th>\n",
       "      <td>2208.0</td>\n",
       "      <td>19.000408</td>\n",
       "      <td>12.132224</td>\n",
       "      <td>0.4</td>\n",
       "      <td>12.6</td>\n",
       "      <td>16.6</td>\n",
       "      <td>22.20</td>\n",
       "      <td>232.2</td>\n",
       "    </tr>\n",
       "    <tr>\n",
       "      <th>Teaching Score</th>\n",
       "      <td>1799.0</td>\n",
       "      <td>27.018010</td>\n",
       "      <td>13.282243</td>\n",
       "      <td>11.6</td>\n",
       "      <td>18.0</td>\n",
       "      <td>22.7</td>\n",
       "      <td>31.85</td>\n",
       "      <td>94.8</td>\n",
       "    </tr>\n",
       "    <tr>\n",
       "      <th>Research Score</th>\n",
       "      <td>1799.0</td>\n",
       "      <td>23.016898</td>\n",
       "      <td>16.763819</td>\n",
       "      <td>7.4</td>\n",
       "      <td>11.3</td>\n",
       "      <td>17.0</td>\n",
       "      <td>28.90</td>\n",
       "      <td>99.7</td>\n",
       "    </tr>\n",
       "    <tr>\n",
       "      <th>Citations Score</th>\n",
       "      <td>1799.0</td>\n",
       "      <td>48.495887</td>\n",
       "      <td>27.967185</td>\n",
       "      <td>0.8</td>\n",
       "      <td>23.1</td>\n",
       "      <td>47.2</td>\n",
       "      <td>72.35</td>\n",
       "      <td>100.0</td>\n",
       "    </tr>\n",
       "    <tr>\n",
       "      <th>Industry Income Score</th>\n",
       "      <td>1799.0</td>\n",
       "      <td>47.104558</td>\n",
       "      <td>15.093682</td>\n",
       "      <td>36.9</td>\n",
       "      <td>37.8</td>\n",
       "      <td>40.5</td>\n",
       "      <td>48.30</td>\n",
       "      <td>100.0</td>\n",
       "    </tr>\n",
       "    <tr>\n",
       "      <th>International Outlook Score</th>\n",
       "      <td>1799.0</td>\n",
       "      <td>46.880378</td>\n",
       "      <td>22.582401</td>\n",
       "      <td>14.1</td>\n",
       "      <td>27.9</td>\n",
       "      <td>42.1</td>\n",
       "      <td>62.10</td>\n",
       "      <td>99.7</td>\n",
       "    </tr>\n",
       "  </tbody>\n",
       "</table>\n",
       "</div>"
      ],
      "text/plain": [
       "                              count       mean        std   min   25%   50%  \\\n",
       "No of student per staff      2208.0  19.000408  12.132224   0.4  12.6  16.6   \n",
       "Teaching Score               1799.0  27.018010  13.282243  11.6  18.0  22.7   \n",
       "Research Score               1799.0  23.016898  16.763819   7.4  11.3  17.0   \n",
       "Citations Score              1799.0  48.495887  27.967185   0.8  23.1  47.2   \n",
       "Industry Income Score        1799.0  47.104558  15.093682  36.9  37.8  40.5   \n",
       "International Outlook Score  1799.0  46.880378  22.582401  14.1  27.9  42.1   \n",
       "\n",
       "                               75%    max  \n",
       "No of student per staff      22.20  232.2  \n",
       "Teaching Score               31.85   94.8  \n",
       "Research Score               28.90   99.7  \n",
       "Citations Score              72.35  100.0  \n",
       "Industry Income Score        48.30  100.0  \n",
       "International Outlook Score  62.10   99.7  "
      ]
     },
     "execution_count": 13,
     "metadata": {},
     "output_type": "execute_result"
    }
   ],
   "source": [
    "df.describe().T"
   ]
  },
  {
   "cell_type": "code",
   "execution_count": 14,
   "id": "441fc7f6",
   "metadata": {},
   "outputs": [
    {
     "data": {
      "text/html": [
       "<div>\n",
       "<style scoped>\n",
       "    .dataframe tbody tr th:only-of-type {\n",
       "        vertical-align: middle;\n",
       "    }\n",
       "\n",
       "    .dataframe tbody tr th {\n",
       "        vertical-align: top;\n",
       "    }\n",
       "\n",
       "    .dataframe thead th {\n",
       "        text-align: right;\n",
       "    }\n",
       "</style>\n",
       "<table border=\"1\" class=\"dataframe\">\n",
       "  <thead>\n",
       "    <tr style=\"text-align: right;\">\n",
       "      <th></th>\n",
       "      <th>count</th>\n",
       "      <th>unique</th>\n",
       "      <th>top</th>\n",
       "      <th>freq</th>\n",
       "    </tr>\n",
       "  </thead>\n",
       "  <tbody>\n",
       "    <tr>\n",
       "      <th>University Rank</th>\n",
       "      <td>2341</td>\n",
       "      <td>162</td>\n",
       "      <td>Reporter</td>\n",
       "      <td>512</td>\n",
       "    </tr>\n",
       "    <tr>\n",
       "      <th>Name of University</th>\n",
       "      <td>2233</td>\n",
       "      <td>2233</td>\n",
       "      <td>University of Oxford</td>\n",
       "      <td>1</td>\n",
       "    </tr>\n",
       "    <tr>\n",
       "      <th>Location</th>\n",
       "      <td>2047</td>\n",
       "      <td>116</td>\n",
       "      <td>United States</td>\n",
       "      <td>173</td>\n",
       "    </tr>\n",
       "    <tr>\n",
       "      <th>No of student</th>\n",
       "      <td>2209</td>\n",
       "      <td>2136</td>\n",
       "      <td>17,080</td>\n",
       "      <td>2</td>\n",
       "    </tr>\n",
       "    <tr>\n",
       "      <th>International Student</th>\n",
       "      <td>2209</td>\n",
       "      <td>79</td>\n",
       "      <td>0%</td>\n",
       "      <td>336</td>\n",
       "    </tr>\n",
       "    <tr>\n",
       "      <th>Female:Male Ratio</th>\n",
       "      <td>2128</td>\n",
       "      <td>87</td>\n",
       "      <td>58 : 42</td>\n",
       "      <td>95</td>\n",
       "    </tr>\n",
       "    <tr>\n",
       "      <th>OverAll Score</th>\n",
       "      <td>1799</td>\n",
       "      <td>160</td>\n",
       "      <td>18.4–24.3</td>\n",
       "      <td>305</td>\n",
       "    </tr>\n",
       "  </tbody>\n",
       "</table>\n",
       "</div>"
      ],
      "text/plain": [
       "                      count unique                   top freq\n",
       "University Rank        2341    162              Reporter  512\n",
       "Name of University     2233   2233  University of Oxford    1\n",
       "Location               2047    116         United States  173\n",
       "No of student          2209   2136                17,080    2\n",
       "International Student  2209     79                    0%  336\n",
       "Female:Male Ratio      2128     87               58 : 42   95\n",
       "OverAll Score          1799    160             18.4–24.3  305"
      ]
     },
     "execution_count": 14,
     "metadata": {},
     "output_type": "execute_result"
    }
   ],
   "source": [
    "df.describe(include = 'object').T"
   ]
  },
  {
   "cell_type": "code",
   "execution_count": 15,
   "id": "44f154ff",
   "metadata": {},
   "outputs": [
    {
     "data": {
      "text/plain": [
       "29"
      ]
     },
     "execution_count": 15,
     "metadata": {},
     "output_type": "execute_result"
    }
   ],
   "source": [
    "df[df.duplicated()].shape[0]"
   ]
  },
  {
   "cell_type": "code",
   "execution_count": 16,
   "id": "c82d3e1d",
   "metadata": {},
   "outputs": [
    {
     "data": {
      "text/plain": [
       "853"
      ]
     },
     "execution_count": 16,
     "metadata": {},
     "output_type": "execute_result"
    }
   ],
   "source": [
    "df.isnull().any(axis=1).sum()"
   ]
  },
  {
   "cell_type": "code",
   "execution_count": 17,
   "id": "76e47a08",
   "metadata": {},
   "outputs": [],
   "source": [
    "df = df.dropna()"
   ]
  },
  {
   "cell_type": "code",
   "execution_count": 18,
   "id": "e0f45a56",
   "metadata": {},
   "outputs": [
    {
     "data": {
      "text/plain": [
       "(1488, 13)"
      ]
     },
     "execution_count": 18,
     "metadata": {},
     "output_type": "execute_result"
    }
   ],
   "source": [
    "df.shape"
   ]
  },
  {
   "cell_type": "code",
   "execution_count": 19,
   "id": "934c0ec0",
   "metadata": {},
   "outputs": [
    {
     "data": {
      "text/plain": [
       "0       20,965\n",
       "1       21,887\n",
       "2       20,185\n",
       "3       16,164\n",
       "4       11,415\n",
       "         ...  \n",
       "1692    23,657\n",
       "1693    10,724\n",
       "1694    38,649\n",
       "1695    17,038\n",
       "1696    28,319\n",
       "Name: No of student, Length: 1488, dtype: object"
      ]
     },
     "execution_count": 19,
     "metadata": {},
     "output_type": "execute_result"
    }
   ],
   "source": [
    "df.iloc[:, 3]"
   ]
  },
  {
   "cell_type": "code",
   "execution_count": 20,
   "id": "2178624c",
   "metadata": {},
   "outputs": [
    {
     "name": "stderr",
     "output_type": "stream",
     "text": [
      "C:\\Users\\Alexander\\AppData\\Local\\Temp\\ipykernel_11952\\1095881466.py:1: DeprecationWarning: In a future version, `df.iloc[:, i] = newvals` will attempt to set the values inplace instead of always setting a new array. To retain the old behavior, use either `df[df.columns[i]] = newvals` or, if columns are non-unique, `df.isetitem(i, newvals)`\n",
      "  df.loc[:, 'No of student'] = df.loc[:, 'No of student'].str.replace(',', '').astype(int)\n"
     ]
    }
   ],
   "source": [
    "df.loc[:, 'No of student'] = df.loc[:, 'No of student'].str.replace(',', '').astype(int)"
   ]
  },
  {
   "cell_type": "code",
   "execution_count": 21,
   "id": "2f07cb89",
   "metadata": {},
   "outputs": [
    {
     "data": {
      "text/plain": [
       "0       20965\n",
       "1       21887\n",
       "2       20185\n",
       "3       16164\n",
       "4       11415\n",
       "        ...  \n",
       "1692    23657\n",
       "1693    10724\n",
       "1694    38649\n",
       "1695    17038\n",
       "1696    28319\n",
       "Name: No of student, Length: 1488, dtype: int32"
      ]
     },
     "execution_count": 21,
     "metadata": {},
     "output_type": "execute_result"
    }
   ],
   "source": [
    "df.loc[:, 'No of student']"
   ]
  },
  {
   "cell_type": "code",
   "execution_count": 22,
   "id": "8beec8fc",
   "metadata": {},
   "outputs": [
    {
     "name": "stdout",
     "output_type": "stream",
     "text": [
      "<class 'pandas.core.frame.DataFrame'>\n",
      "Int64Index: 1488 entries, 0 to 1696\n",
      "Data columns (total 13 columns):\n",
      " #   Column                       Non-Null Count  Dtype  \n",
      "---  ------                       --------------  -----  \n",
      " 0   University Rank              1488 non-null   object \n",
      " 1   Name of University           1488 non-null   object \n",
      " 2   Location                     1488 non-null   object \n",
      " 3   No of student                1488 non-null   int32  \n",
      " 4   No of student per staff      1488 non-null   float64\n",
      " 5   International Student        1488 non-null   object \n",
      " 6   Female:Male Ratio            1488 non-null   object \n",
      " 7   OverAll Score                1488 non-null   object \n",
      " 8   Teaching Score               1488 non-null   float64\n",
      " 9   Research Score               1488 non-null   float64\n",
      " 10  Citations Score              1488 non-null   float64\n",
      " 11  Industry Income Score        1488 non-null   float64\n",
      " 12  International Outlook Score  1488 non-null   float64\n",
      "dtypes: float64(6), int32(1), object(6)\n",
      "memory usage: 156.9+ KB\n"
     ]
    }
   ],
   "source": [
    "df.info()"
   ]
  },
  {
   "cell_type": "code",
   "execution_count": 23,
   "id": "5c712b9d",
   "metadata": {},
   "outputs": [
    {
     "name": "stdout",
     "output_type": "stream",
     "text": [
      "(1488, 13)\n"
     ]
    },
    {
     "data": {
      "text/html": [
       "<div>\n",
       "<style scoped>\n",
       "    .dataframe tbody tr th:only-of-type {\n",
       "        vertical-align: middle;\n",
       "    }\n",
       "\n",
       "    .dataframe tbody tr th {\n",
       "        vertical-align: top;\n",
       "    }\n",
       "\n",
       "    .dataframe thead th {\n",
       "        text-align: right;\n",
       "    }\n",
       "</style>\n",
       "<table border=\"1\" class=\"dataframe\">\n",
       "  <thead>\n",
       "    <tr style=\"text-align: right;\">\n",
       "      <th></th>\n",
       "      <th>University Rank</th>\n",
       "      <th>Name of University</th>\n",
       "      <th>Location</th>\n",
       "      <th>No of student</th>\n",
       "      <th>No of student per staff</th>\n",
       "      <th>International Student</th>\n",
       "      <th>Female:Male Ratio</th>\n",
       "      <th>OverAll Score</th>\n",
       "      <th>Teaching Score</th>\n",
       "      <th>Research Score</th>\n",
       "      <th>Citations Score</th>\n",
       "      <th>Industry Income Score</th>\n",
       "      <th>International Outlook Score</th>\n",
       "    </tr>\n",
       "  </thead>\n",
       "  <tbody>\n",
       "    <tr>\n",
       "      <th>0</th>\n",
       "      <td>1</td>\n",
       "      <td>University of Oxford</td>\n",
       "      <td>United Kingdom</td>\n",
       "      <td>20965</td>\n",
       "      <td>10.6</td>\n",
       "      <td>42%</td>\n",
       "      <td>48 : 52</td>\n",
       "      <td>96.4</td>\n",
       "      <td>92.3</td>\n",
       "      <td>99.7</td>\n",
       "      <td>99.0</td>\n",
       "      <td>74.9</td>\n",
       "      <td>96.2</td>\n",
       "    </tr>\n",
       "    <tr>\n",
       "      <th>1</th>\n",
       "      <td>2</td>\n",
       "      <td>Harvard University</td>\n",
       "      <td>United States</td>\n",
       "      <td>21887</td>\n",
       "      <td>9.6</td>\n",
       "      <td>25%</td>\n",
       "      <td>50 : 50</td>\n",
       "      <td>95.2</td>\n",
       "      <td>94.8</td>\n",
       "      <td>99.0</td>\n",
       "      <td>99.3</td>\n",
       "      <td>49.5</td>\n",
       "      <td>80.5</td>\n",
       "    </tr>\n",
       "    <tr>\n",
       "      <th>2</th>\n",
       "      <td>3</td>\n",
       "      <td>University of Cambridge</td>\n",
       "      <td>United Kingdom</td>\n",
       "      <td>20185</td>\n",
       "      <td>11.3</td>\n",
       "      <td>39%</td>\n",
       "      <td>47 : 53</td>\n",
       "      <td>94.8</td>\n",
       "      <td>90.9</td>\n",
       "      <td>99.5</td>\n",
       "      <td>97.0</td>\n",
       "      <td>54.2</td>\n",
       "      <td>95.8</td>\n",
       "    </tr>\n",
       "    <tr>\n",
       "      <th>3</th>\n",
       "      <td>3</td>\n",
       "      <td>Stanford University</td>\n",
       "      <td>United States</td>\n",
       "      <td>16164</td>\n",
       "      <td>7.1</td>\n",
       "      <td>24%</td>\n",
       "      <td>46 : 54</td>\n",
       "      <td>94.8</td>\n",
       "      <td>94.2</td>\n",
       "      <td>96.7</td>\n",
       "      <td>99.8</td>\n",
       "      <td>65.0</td>\n",
       "      <td>79.8</td>\n",
       "    </tr>\n",
       "    <tr>\n",
       "      <th>4</th>\n",
       "      <td>5</td>\n",
       "      <td>Massachusetts Institute of Technology</td>\n",
       "      <td>United States</td>\n",
       "      <td>11415</td>\n",
       "      <td>8.2</td>\n",
       "      <td>33%</td>\n",
       "      <td>40 : 60</td>\n",
       "      <td>94.2</td>\n",
       "      <td>90.7</td>\n",
       "      <td>93.6</td>\n",
       "      <td>99.8</td>\n",
       "      <td>90.9</td>\n",
       "      <td>89.3</td>\n",
       "    </tr>\n",
       "  </tbody>\n",
       "</table>\n",
       "</div>"
      ],
      "text/plain": [
       "  University Rank                     Name of University        Location  \\\n",
       "0               1                   University of Oxford  United Kingdom   \n",
       "1               2                     Harvard University   United States   \n",
       "2               3                University of Cambridge  United Kingdom   \n",
       "3               3                    Stanford University   United States   \n",
       "4               5  Massachusetts Institute of Technology   United States   \n",
       "\n",
       "   No of student  No of student per staff International Student  \\\n",
       "0          20965                     10.6                   42%   \n",
       "1          21887                      9.6                   25%   \n",
       "2          20185                     11.3                   39%   \n",
       "3          16164                      7.1                   24%   \n",
       "4          11415                      8.2                   33%   \n",
       "\n",
       "  Female:Male Ratio OverAll Score  Teaching Score  Research Score  \\\n",
       "0           48 : 52          96.4            92.3            99.7   \n",
       "1           50 : 50          95.2            94.8            99.0   \n",
       "2           47 : 53          94.8            90.9            99.5   \n",
       "3           46 : 54          94.8            94.2            96.7   \n",
       "4           40 : 60          94.2            90.7            93.6   \n",
       "\n",
       "   Citations Score  Industry Income Score  International Outlook Score  \n",
       "0             99.0                   74.9                         96.2  \n",
       "1             99.3                   49.5                         80.5  \n",
       "2             97.0                   54.2                         95.8  \n",
       "3             99.8                   65.0                         79.8  \n",
       "4             99.8                   90.9                         89.3  "
      ]
     },
     "execution_count": 23,
     "metadata": {},
     "output_type": "execute_result"
    }
   ],
   "source": [
    "print(df.shape)\n",
    "df.head()"
   ]
  },
  {
   "cell_type": "markdown",
   "id": "a060ba96",
   "metadata": {},
   "source": [
    "# \n",
    "\n",
    "**Convert object into numerical**"
   ]
  },
  {
   "cell_type": "code",
   "execution_count": 24,
   "id": "68728a38",
   "metadata": {
    "scrolled": true
   },
   "outputs": [],
   "source": [
    "df.loc[:, 'International Student'] = df['International Student'].str.replace('%', '')"
   ]
  },
  {
   "cell_type": "code",
   "execution_count": 25,
   "id": "8ebb1ac2",
   "metadata": {},
   "outputs": [
    {
     "data": {
      "text/html": [
       "<div>\n",
       "<style scoped>\n",
       "    .dataframe tbody tr th:only-of-type {\n",
       "        vertical-align: middle;\n",
       "    }\n",
       "\n",
       "    .dataframe tbody tr th {\n",
       "        vertical-align: top;\n",
       "    }\n",
       "\n",
       "    .dataframe thead th {\n",
       "        text-align: right;\n",
       "    }\n",
       "</style>\n",
       "<table border=\"1\" class=\"dataframe\">\n",
       "  <thead>\n",
       "    <tr style=\"text-align: right;\">\n",
       "      <th></th>\n",
       "      <th>University Rank</th>\n",
       "      <th>Name of University</th>\n",
       "      <th>Location</th>\n",
       "      <th>No of student</th>\n",
       "      <th>No of student per staff</th>\n",
       "      <th>International Student</th>\n",
       "      <th>Female:Male Ratio</th>\n",
       "      <th>OverAll Score</th>\n",
       "      <th>Teaching Score</th>\n",
       "      <th>Research Score</th>\n",
       "      <th>Citations Score</th>\n",
       "      <th>Industry Income Score</th>\n",
       "      <th>International Outlook Score</th>\n",
       "    </tr>\n",
       "  </thead>\n",
       "  <tbody>\n",
       "    <tr>\n",
       "      <th>836</th>\n",
       "      <td>801–1000</td>\n",
       "      <td>Karlstad University</td>\n",
       "      <td>Sweden</td>\n",
       "      <td>9698</td>\n",
       "      <td>14.0</td>\n",
       "      <td></td>\n",
       "      <td>63 : 37</td>\n",
       "      <td>29.8–33.9</td>\n",
       "      <td>17.3</td>\n",
       "      <td>14.4</td>\n",
       "      <td>54.6</td>\n",
       "      <td>37.5</td>\n",
       "      <td>41.2</td>\n",
       "    </tr>\n",
       "  </tbody>\n",
       "</table>\n",
       "</div>"
      ],
      "text/plain": [
       "    University Rank   Name of University Location  No of student  \\\n",
       "836        801–1000  Karlstad University   Sweden           9698   \n",
       "\n",
       "     No of student per staff International Student Female:Male Ratio  \\\n",
       "836                     14.0                                 63 : 37   \n",
       "\n",
       "    OverAll Score  Teaching Score  Research Score  Citations Score  \\\n",
       "836     29.8–33.9            17.3            14.4             54.6   \n",
       "\n",
       "     Industry Income Score  International Outlook Score  \n",
       "836                   37.5                         41.2  "
      ]
     },
     "execution_count": 25,
     "metadata": {},
     "output_type": "execute_result"
    }
   ],
   "source": [
    "df[df['International Student'] == '']"
   ]
  },
  {
   "cell_type": "code",
   "execution_count": 26,
   "id": "403b41a7",
   "metadata": {
    "scrolled": true
   },
   "outputs": [
    {
     "name": "stderr",
     "output_type": "stream",
     "text": [
      "C:\\Users\\Alexander\\AppData\\Local\\Temp\\ipykernel_11952\\2906827251.py:1: DeprecationWarning: In a future version, `df.iloc[:, i] = newvals` will attempt to set the values inplace instead of always setting a new array. To retain the old behavior, use either `df[df.columns[i]] = newvals` or, if columns are non-unique, `df.isetitem(i, newvals)`\n",
      "  df.loc[:, 'International Student'] = df.loc[:, 'International Student'].replace('', 0.0).astype(float)/100\n"
     ]
    }
   ],
   "source": [
    "df.loc[:, 'International Student'] = df.loc[:, 'International Student'].replace('', 0.0).astype(float)/100"
   ]
  },
  {
   "cell_type": "code",
   "execution_count": 27,
   "id": "1822db92",
   "metadata": {},
   "outputs": [],
   "source": [
    "#Удаляем пробелы в начале и в конце названий столбцов\n",
    "df.columns = df.columns.str.strip()"
   ]
  },
  {
   "cell_type": "code",
   "execution_count": 28,
   "id": "d9849c49",
   "metadata": {},
   "outputs": [],
   "source": [
    "#разбиваем Female:Male Ratio на две колонки\n",
    "df[['Female', 'Male']] = df['Female:Male Ratio'].str.split(':', expand = True).astype(int)"
   ]
  },
  {
   "cell_type": "code",
   "execution_count": 31,
   "id": "e6a29a8e",
   "metadata": {},
   "outputs": [],
   "source": [
    "#удаляем стобец Female:Male Ratio\n",
    "df.drop(labels = ['Female:Male Ratio'], axis = 1, inplace = True)"
   ]
  },
  {
   "cell_type": "code",
   "execution_count": null,
   "id": "4e7eac9a",
   "metadata": {},
   "outputs": [],
   "source": []
  }
 ],
 "metadata": {
  "kernelspec": {
   "display_name": "Python 3 (ipykernel)",
   "language": "python",
   "name": "python3"
  },
  "language_info": {
   "codemirror_mode": {
    "name": "ipython",
    "version": 3
   },
   "file_extension": ".py",
   "mimetype": "text/x-python",
   "name": "python",
   "nbconvert_exporter": "python",
   "pygments_lexer": "ipython3",
   "version": "3.10.9"
  }
 },
 "nbformat": 4,
 "nbformat_minor": 5
}
