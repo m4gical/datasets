{
 "cells": [
  {
   "cell_type": "code",
   "execution_count": 1,
   "id": "b7b2ff7b",
   "metadata": {},
   "outputs": [],
   "source": [
    "import pandas as pd\n",
    "import numpy as np\n",
    "import seaborn as sns\n",
    "from sklearn.linear_model import LinearRegression\n",
    "from sklearn.tree import DecisionTreeRegressor\n",
    "from sklearn.ensemble import RandomForestRegressor\n",
    "from sklearn.svm import SVR\n",
    "from sklearn import metrics"
   ]
  },
  {
   "cell_type": "code",
   "execution_count": 2,
   "id": "2e11c52d",
   "metadata": {},
   "outputs": [],
   "source": [
    "train_df = pd.read_csv('D:\\\\Random\\\\Для PC\\\\Data and ML\\\\datasets\\\\HOUSE PRICE PREDICTION - SEATTLE\\\\train.csv')\n",
    "test_df = pd.read_csv('D:\\\\Random\\\\Для PC\\\\Data and ML\\\\datasets\\\\HOUSE PRICE PREDICTION - SEATTLE\\\\test.csv')"
   ]
  },
  {
   "cell_type": "code",
   "execution_count": 3,
   "id": "c0105035",
   "metadata": {
    "scrolled": false
   },
   "outputs": [
    {
     "data": {
      "text/html": [
       "<div>\n",
       "<style scoped>\n",
       "    .dataframe tbody tr th:only-of-type {\n",
       "        vertical-align: middle;\n",
       "    }\n",
       "\n",
       "    .dataframe tbody tr th {\n",
       "        vertical-align: top;\n",
       "    }\n",
       "\n",
       "    .dataframe thead th {\n",
       "        text-align: right;\n",
       "    }\n",
       "</style>\n",
       "<table border=\"1\" class=\"dataframe\">\n",
       "  <thead>\n",
       "    <tr style=\"text-align: right;\">\n",
       "      <th></th>\n",
       "      <th>beds</th>\n",
       "      <th>baths</th>\n",
       "      <th>size</th>\n",
       "      <th>size_units</th>\n",
       "      <th>lot_size</th>\n",
       "      <th>lot_size_units</th>\n",
       "      <th>zip_code</th>\n",
       "      <th>price</th>\n",
       "    </tr>\n",
       "  </thead>\n",
       "  <tbody>\n",
       "    <tr>\n",
       "      <th>0</th>\n",
       "      <td>3</td>\n",
       "      <td>2.5</td>\n",
       "      <td>2590.0</td>\n",
       "      <td>sqft</td>\n",
       "      <td>6000.00</td>\n",
       "      <td>sqft</td>\n",
       "      <td>98144</td>\n",
       "      <td>795000.0</td>\n",
       "    </tr>\n",
       "    <tr>\n",
       "      <th>1</th>\n",
       "      <td>4</td>\n",
       "      <td>2.0</td>\n",
       "      <td>2240.0</td>\n",
       "      <td>sqft</td>\n",
       "      <td>0.31</td>\n",
       "      <td>acre</td>\n",
       "      <td>98106</td>\n",
       "      <td>915000.0</td>\n",
       "    </tr>\n",
       "    <tr>\n",
       "      <th>2</th>\n",
       "      <td>4</td>\n",
       "      <td>3.0</td>\n",
       "      <td>2040.0</td>\n",
       "      <td>sqft</td>\n",
       "      <td>3783.00</td>\n",
       "      <td>sqft</td>\n",
       "      <td>98107</td>\n",
       "      <td>950000.0</td>\n",
       "    </tr>\n",
       "    <tr>\n",
       "      <th>3</th>\n",
       "      <td>4</td>\n",
       "      <td>3.0</td>\n",
       "      <td>3800.0</td>\n",
       "      <td>sqft</td>\n",
       "      <td>5175.00</td>\n",
       "      <td>sqft</td>\n",
       "      <td>98199</td>\n",
       "      <td>1950000.0</td>\n",
       "    </tr>\n",
       "    <tr>\n",
       "      <th>4</th>\n",
       "      <td>2</td>\n",
       "      <td>2.0</td>\n",
       "      <td>1042.0</td>\n",
       "      <td>sqft</td>\n",
       "      <td>NaN</td>\n",
       "      <td>NaN</td>\n",
       "      <td>98102</td>\n",
       "      <td>950000.0</td>\n",
       "    </tr>\n",
       "  </tbody>\n",
       "</table>\n",
       "</div>"
      ],
      "text/plain": [
       "   beds  baths    size size_units  lot_size lot_size_units  zip_code  \\\n",
       "0     3    2.5  2590.0       sqft   6000.00           sqft     98144   \n",
       "1     4    2.0  2240.0       sqft      0.31           acre     98106   \n",
       "2     4    3.0  2040.0       sqft   3783.00           sqft     98107   \n",
       "3     4    3.0  3800.0       sqft   5175.00           sqft     98199   \n",
       "4     2    2.0  1042.0       sqft       NaN            NaN     98102   \n",
       "\n",
       "       price  \n",
       "0   795000.0  \n",
       "1   915000.0  \n",
       "2   950000.0  \n",
       "3  1950000.0  \n",
       "4   950000.0  "
      ]
     },
     "execution_count": 3,
     "metadata": {},
     "output_type": "execute_result"
    }
   ],
   "source": [
    "train_df.head()"
   ]
  },
  {
   "cell_type": "code",
   "execution_count": 4,
   "id": "541ffbce",
   "metadata": {},
   "outputs": [
    {
     "name": "stdout",
     "output_type": "stream",
     "text": [
      "<class 'pandas.core.frame.DataFrame'>\n",
      "RangeIndex: 2016 entries, 0 to 2015\n",
      "Data columns (total 8 columns):\n",
      " #   Column          Non-Null Count  Dtype  \n",
      "---  ------          --------------  -----  \n",
      " 0   beds            2016 non-null   int64  \n",
      " 1   baths           2016 non-null   float64\n",
      " 2   size            2016 non-null   float64\n",
      " 3   size_units      2016 non-null   object \n",
      " 4   lot_size        1669 non-null   float64\n",
      " 5   lot_size_units  1669 non-null   object \n",
      " 6   zip_code        2016 non-null   int64  \n",
      " 7   price           2016 non-null   float64\n",
      "dtypes: float64(4), int64(2), object(2)\n",
      "memory usage: 126.1+ KB\n"
     ]
    }
   ],
   "source": [
    "train_df.info()"
   ]
  },
  {
   "cell_type": "code",
   "execution_count": 5,
   "id": "5e9b4192",
   "metadata": {
    "scrolled": true
   },
   "outputs": [
    {
     "name": "stdout",
     "output_type": "stream",
     "text": [
      "['sqft']\n",
      "['sqft']\n"
     ]
    }
   ],
   "source": [
    "print(train_df['size_units'].unique())\n",
    "print(test_df['size_units'].unique())"
   ]
  },
  {
   "cell_type": "code",
   "execution_count": 6,
   "id": "b551d8f2",
   "metadata": {},
   "outputs": [],
   "source": [
    "#удалим столбец 'size_units'\n",
    "train_df = train_df.drop(columns = 'size_units')\n",
    "test_df = test_df.drop(columns = 'size_units')"
   ]
  },
  {
   "cell_type": "code",
   "execution_count": 7,
   "id": "3832115b",
   "metadata": {},
   "outputs": [],
   "source": [
    "def convert_to_sqrf(df):\n",
    "    if df['lot_size_units'] == 'acre':\n",
    "        return df['lot_size'] * 43560\n",
    "    \n",
    "    else:\n",
    "        return df['lot_size']"
   ]
  },
  {
   "cell_type": "code",
   "execution_count": 8,
   "id": "12f38b2a",
   "metadata": {
    "scrolled": false
   },
   "outputs": [],
   "source": [
    "train_df['lot_size'] = train_df.apply(convert_to_sqrf, axis = 'columns')\n",
    "test_df['lot_size'] = test_df.apply(convert_to_sqrf, axis = 'columns')"
   ]
  },
  {
   "cell_type": "code",
   "execution_count": 9,
   "id": "52541e1f",
   "metadata": {},
   "outputs": [],
   "source": [
    "train_df = train_df.drop(columns = 'lot_size_units')\n",
    "test_df = test_df.drop(columns = 'lot_size_units')"
   ]
  },
  {
   "cell_type": "code",
   "execution_count": 10,
   "id": "945c1abe",
   "metadata": {
    "scrolled": true
   },
   "outputs": [
    {
     "data": {
      "text/html": [
       "<div>\n",
       "<style scoped>\n",
       "    .dataframe tbody tr th:only-of-type {\n",
       "        vertical-align: middle;\n",
       "    }\n",
       "\n",
       "    .dataframe tbody tr th {\n",
       "        vertical-align: top;\n",
       "    }\n",
       "\n",
       "    .dataframe thead th {\n",
       "        text-align: right;\n",
       "    }\n",
       "</style>\n",
       "<table border=\"1\" class=\"dataframe\">\n",
       "  <thead>\n",
       "    <tr style=\"text-align: right;\">\n",
       "      <th></th>\n",
       "      <th>beds</th>\n",
       "      <th>baths</th>\n",
       "      <th>size</th>\n",
       "      <th>lot_size</th>\n",
       "      <th>zip_code</th>\n",
       "      <th>price</th>\n",
       "    </tr>\n",
       "  </thead>\n",
       "  <tbody>\n",
       "    <tr>\n",
       "      <th>0</th>\n",
       "      <td>3</td>\n",
       "      <td>2.50</td>\n",
       "      <td>2590.00</td>\n",
       "      <td>6000.00</td>\n",
       "      <td>98144</td>\n",
       "      <td>795000.00</td>\n",
       "    </tr>\n",
       "    <tr>\n",
       "      <th>1</th>\n",
       "      <td>4</td>\n",
       "      <td>2.00</td>\n",
       "      <td>2240.00</td>\n",
       "      <td>13503.60</td>\n",
       "      <td>98106</td>\n",
       "      <td>915000.00</td>\n",
       "    </tr>\n",
       "    <tr>\n",
       "      <th>2</th>\n",
       "      <td>4</td>\n",
       "      <td>3.00</td>\n",
       "      <td>2040.00</td>\n",
       "      <td>3783.00</td>\n",
       "      <td>98107</td>\n",
       "      <td>950000.00</td>\n",
       "    </tr>\n",
       "    <tr>\n",
       "      <th>3</th>\n",
       "      <td>4</td>\n",
       "      <td>3.00</td>\n",
       "      <td>3800.00</td>\n",
       "      <td>5175.00</td>\n",
       "      <td>98199</td>\n",
       "      <td>1950000.00</td>\n",
       "    </tr>\n",
       "    <tr>\n",
       "      <th>4</th>\n",
       "      <td>2</td>\n",
       "      <td>2.00</td>\n",
       "      <td>1042.00</td>\n",
       "      <td>NaN</td>\n",
       "      <td>98102</td>\n",
       "      <td>950000.00</td>\n",
       "    </tr>\n",
       "  </tbody>\n",
       "</table>\n",
       "</div>"
      ],
      "text/plain": [
       "   beds  baths    size  lot_size  zip_code      price\n",
       "0     3   2.50 2590.00   6000.00     98144  795000.00\n",
       "1     4   2.00 2240.00  13503.60     98106  915000.00\n",
       "2     4   3.00 2040.00   3783.00     98107  950000.00\n",
       "3     4   3.00 3800.00   5175.00     98199 1950000.00\n",
       "4     2   2.00 1042.00       NaN     98102  950000.00"
      ]
     },
     "execution_count": 10,
     "metadata": {},
     "output_type": "execute_result"
    }
   ],
   "source": [
    "pd.options.display.float_format = '{:.2f}'.format\n",
    "train_df.head()"
   ]
  },
  {
   "cell_type": "code",
   "execution_count": 11,
   "id": "89095c23",
   "metadata": {},
   "outputs": [],
   "source": [
    "train_df = train_df.dropna()\n",
    "test_df = test_df.dropna()"
   ]
  },
  {
   "cell_type": "code",
   "execution_count": 12,
   "id": "f0f0f83b",
   "metadata": {},
   "outputs": [
    {
     "data": {
      "text/plain": [
       "<Axes: >"
      ]
     },
     "execution_count": 12,
     "metadata": {},
     "output_type": "execute_result"
    },
    {
     "data": {
      "image/png": "[encoded data removed]",
      "text/plain": [
       "<Figure size 640x480 with 2 Axes>"
      ]
     },
     "metadata": {},
     "output_type": "display_data"
    }
   ],
   "source": [
    "corr_train = train_df.corr()\n",
    "sns.heatmap(corr_train, annot = True)"
   ]
  },
  {
   "cell_type": "code",
   "execution_count": 13,
   "id": "4a5dd936",
   "metadata": {},
   "outputs": [],
   "source": [
    "price = train_df['price']"
   ]
  },
  {
   "cell_type": "code",
   "execution_count": 14,
   "id": "72e2723f",
   "metadata": {},
   "outputs": [
    {
     "data": {
      "text/plain": [
       "0       795000.00\n",
       "1       915000.00\n",
       "2       950000.00\n",
       "3      1950000.00\n",
       "5       740000.00\n",
       "          ...    \n",
       "2009    675000.00\n",
       "2010    699950.00\n",
       "2011    910000.00\n",
       "2013   1150000.00\n",
       "2015    659000.00\n",
       "Name: price, Length: 1669, dtype: float64"
      ]
     },
     "execution_count": 14,
     "metadata": {},
     "output_type": "execute_result"
    }
   ],
   "source": [
    "price"
   ]
  },
  {
   "cell_type": "code",
   "execution_count": 15,
   "id": "1f76e84b",
   "metadata": {},
   "outputs": [],
   "source": [
    "ves_x = train_df.drop(columns = 'price', axis = 1)"
   ]
  },
  {
   "cell_type": "code",
   "execution_count": 16,
   "id": "5039899b",
   "metadata": {},
   "outputs": [
    {
     "data": {
      "text/html": [
       "<div>\n",
       "<style scoped>\n",
       "    .dataframe tbody tr th:only-of-type {\n",
       "        vertical-align: middle;\n",
       "    }\n",
       "\n",
       "    .dataframe tbody tr th {\n",
       "        vertical-align: top;\n",
       "    }\n",
       "\n",
       "    .dataframe thead th {\n",
       "        text-align: right;\n",
       "    }\n",
       "</style>\n",
       "<table border=\"1\" class=\"dataframe\">\n",
       "  <thead>\n",
       "    <tr style=\"text-align: right;\">\n",
       "      <th></th>\n",
       "      <th>beds</th>\n",
       "      <th>baths</th>\n",
       "      <th>size</th>\n",
       "      <th>lot_size</th>\n",
       "      <th>zip_code</th>\n",
       "    </tr>\n",
       "  </thead>\n",
       "  <tbody>\n",
       "    <tr>\n",
       "      <th>0</th>\n",
       "      <td>3</td>\n",
       "      <td>2.50</td>\n",
       "      <td>2590.00</td>\n",
       "      <td>6000.00</td>\n",
       "      <td>98144</td>\n",
       "    </tr>\n",
       "    <tr>\n",
       "      <th>1</th>\n",
       "      <td>4</td>\n",
       "      <td>2.00</td>\n",
       "      <td>2240.00</td>\n",
       "      <td>13503.60</td>\n",
       "      <td>98106</td>\n",
       "    </tr>\n",
       "    <tr>\n",
       "      <th>2</th>\n",
       "      <td>4</td>\n",
       "      <td>3.00</td>\n",
       "      <td>2040.00</td>\n",
       "      <td>3783.00</td>\n",
       "      <td>98107</td>\n",
       "    </tr>\n",
       "    <tr>\n",
       "      <th>3</th>\n",
       "      <td>4</td>\n",
       "      <td>3.00</td>\n",
       "      <td>3800.00</td>\n",
       "      <td>5175.00</td>\n",
       "      <td>98199</td>\n",
       "    </tr>\n",
       "    <tr>\n",
       "      <th>5</th>\n",
       "      <td>2</td>\n",
       "      <td>2.00</td>\n",
       "      <td>1190.00</td>\n",
       "      <td>43560.00</td>\n",
       "      <td>98107</td>\n",
       "    </tr>\n",
       "    <tr>\n",
       "      <th>...</th>\n",
       "      <td>...</td>\n",
       "      <td>...</td>\n",
       "      <td>...</td>\n",
       "      <td>...</td>\n",
       "      <td>...</td>\n",
       "    </tr>\n",
       "    <tr>\n",
       "      <th>2009</th>\n",
       "      <td>3</td>\n",
       "      <td>3.50</td>\n",
       "      <td>1680.00</td>\n",
       "      <td>1486.00</td>\n",
       "      <td>98126</td>\n",
       "    </tr>\n",
       "    <tr>\n",
       "      <th>2010</th>\n",
       "      <td>2</td>\n",
       "      <td>2.00</td>\n",
       "      <td>1400.00</td>\n",
       "      <td>14810.40</td>\n",
       "      <td>98199</td>\n",
       "    </tr>\n",
       "    <tr>\n",
       "      <th>2011</th>\n",
       "      <td>3</td>\n",
       "      <td>2.00</td>\n",
       "      <td>1370.00</td>\n",
       "      <td>21780.00</td>\n",
       "      <td>98112</td>\n",
       "    </tr>\n",
       "    <tr>\n",
       "      <th>2013</th>\n",
       "      <td>4</td>\n",
       "      <td>2.00</td>\n",
       "      <td>2140.00</td>\n",
       "      <td>6250.00</td>\n",
       "      <td>98199</td>\n",
       "    </tr>\n",
       "    <tr>\n",
       "      <th>2015</th>\n",
       "      <td>3</td>\n",
       "      <td>2.00</td>\n",
       "      <td>1710.00</td>\n",
       "      <td>4267.00</td>\n",
       "      <td>98133</td>\n",
       "    </tr>\n",
       "  </tbody>\n",
       "</table>\n",
       "<p>1669 rows × 5 columns</p>\n",
       "</div>"
      ],
      "text/plain": [
       "      beds  baths    size  lot_size  zip_code\n",
       "0        3   2.50 2590.00   6000.00     98144\n",
       "1        4   2.00 2240.00  13503.60     98106\n",
       "2        4   3.00 2040.00   3783.00     98107\n",
       "3        4   3.00 3800.00   5175.00     98199\n",
       "5        2   2.00 1190.00  43560.00     98107\n",
       "...    ...    ...     ...       ...       ...\n",
       "2009     3   3.50 1680.00   1486.00     98126\n",
       "2010     2   2.00 1400.00  14810.40     98199\n",
       "2011     3   2.00 1370.00  21780.00     98112\n",
       "2013     4   2.00 2140.00   6250.00     98199\n",
       "2015     3   2.00 1710.00   4267.00     98133\n",
       "\n",
       "[1669 rows x 5 columns]"
      ]
     },
     "execution_count": 16,
     "metadata": {},
     "output_type": "execute_result"
    }
   ],
   "source": [
    "ves_x"
   ]
  },
  {
   "cell_type": "code",
   "execution_count": 17,
   "id": "5657c86e",
   "metadata": {},
   "outputs": [],
   "source": [
    "X_train = train_df.drop(columns = 'price', axis = 1)\n",
    "y_train = train_df['price']"
   ]
  },
  {
   "cell_type": "code",
   "execution_count": 18,
   "id": "ed296cd9",
   "metadata": {},
   "outputs": [],
   "source": [
    "X_test = test_df.drop(columns = 'price')\n",
    "y_test = test_df['price']"
   ]
  },
  {
   "cell_type": "code",
   "execution_count": 19,
   "id": "233ef8b3",
   "metadata": {},
   "outputs": [],
   "source": [
    "regressors = {'LinReg': LinearRegression(), \n",
    "          'DecTree': DecisionTreeRegressor(), \n",
    "          'RandomForest': RandomForestRegressor()}"
   ]
  },
  {
   "cell_type": "code",
   "execution_count": 20,
   "id": "4d4ce8ab",
   "metadata": {},
   "outputs": [
    {
     "name": "stdout",
     "output_type": "stream",
     "text": [
      "LinReg has MSE = 441110.91 and R2 = 0.49\n",
      "DecTree has MSE = 1296182.21 and R2 = -3.40\n",
      "RandomForest has MSE = 696715.65 and R2 = -0.27\n"
     ]
    }
   ],
   "source": [
    "for name, model in regressors.items():\n",
    "    model.fit(X_train, y_train)\n",
    "    y_predict = model.predict(X_test)\n",
    "    \n",
    "    MSE = metrics.mean_squared_error(y_test, y_predict, squared=False)\n",
    "    R2 = metrics.r2_score(y_test, y_predict)\n",
    "    \n",
    "    print(f'{name} has MSE = {MSE:.2f} and R2 = {R2:.2f}')"
   ]
  },
  {
   "cell_type": "code",
   "execution_count": null,
   "id": "10fa3d97",
   "metadata": {},
   "outputs": [],
   "source": []
  }
 ],
 "metadata": {
  "kernelspec": {
   "display_name": "Python 3 (ipykernel)",
   "language": "python",
   "name": "python3"
  },
  "language_info": {
   "codemirror_mode": {
    "name": "ipython",
    "version": 3
   },
   "file_extension": ".py",
   "mimetype": "text/x-python",
   "name": "python",
   "nbconvert_exporter": "python",
   "pygments_lexer": "ipython3",
   "version": "3.11.5"
  }
 },
 "nbformat": 4,
 "nbformat_minor": 5
}
